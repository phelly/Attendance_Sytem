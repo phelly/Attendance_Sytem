{
  "nbformat": 4,
  "nbformat_minor": 0,
  "metadata": {
    "colab": {
      "name": "Python_Tutorial.py",
      "provenance": [],
      "authorship_tag": "ABX9TyMnapz+dr+z8e/5uzKMcRqb",
      "include_colab_link": true
    },
    "kernelspec": {
      "name": "python3",
      "display_name": "Python 3"
    },
    "language_info": {
      "name": "python"
    }
  },
  "cells": [
    {
      "cell_type": "markdown",
      "metadata": {
        "id": "view-in-github",
        "colab_type": "text"
      },
      "source": [
        "<a href=\"https://colab.research.google.com/github/phelly/Attendance_Sytem/blob/main/Python_Tutorial_py.ipynb\" target=\"_parent\"><img src=\"https://colab.research.google.com/assets/colab-badge.svg\" alt=\"Open In Colab\"/></a>"
      ]
    },
    {
      "cell_type": "code",
      "metadata": {
        "colab": {
          "base_uri": "https://localhost:8080/"
        },
        "id": "EwtFjwu0Yxkz",
        "outputId": "312b8e1b-a01f-4930-ccff-c049dee61c90"
      },
      "source": [
        "#Python Syntax\n",
        "x = 'Thursday'\n",
        "print(x)"
      ],
      "execution_count": 2,
      "outputs": [
        {
          "output_type": "stream",
          "name": "stdout",
          "text": [
            "Thursday\n"
          ]
        }
      ]
    },
    {
      "cell_type": "markdown",
      "metadata": {
        "id": "LElWFRFyZWRQ"
      },
      "source": [
        "\n",
        "\n",
        "```\n",
        "Python Indention\n",
        "```\n",
        "Identation refers to the spaces at the beginning of a code. In python programming it is very important while for other programming is used for readibility\n",
        "\n"
      ]
    },
    {
      "cell_type": "markdown",
      "metadata": {
        "id": "5wV3oF-yZ6Uv"
      },
      "source": [
        "**Python Variable**"
      ]
    },
    {
      "cell_type": "markdown",
      "metadata": {
        "id": "f_fvTQs7aF60"
      },
      "source": [
        "We use variables to assign values.\n",
        "\n",
        "\n",
        "1.   Case sensitive \n",
        "2.   Cannot start with a number\n",
        "3.    Can only contain alphanumerical and underscores\n",
        "\n"
      ]
    },
    {
      "cell_type": "code",
      "metadata": {
        "id": "Ga8ENaYza9Mg"
      },
      "source": [
        "a = 'fruits'\n",
        "A = 'Banana'\n",
        "print(a)\n",
        "print(A)"
      ],
      "execution_count": null,
      "outputs": []
    },
    {
      "cell_type": "code",
      "metadata": {
        "id": "IRRkCdqiZUQx"
      },
      "source": [
        "_myData = 'Thursday'\n",
        "MyData = 100\n",
        "My_Data = 10\n",
        "MyData1 = 'Monthly'\n",
        "1mydata = 'black'"
      ],
      "execution_count": null,
      "outputs": []
    },
    {
      "cell_type": "code",
      "metadata": {
        "id": "IEV915_-a-zc"
      },
      "source": [
        "print(_myData)\n",
        "print(MyData)\n",
        "print(My_Data)\n",
        "print(MyData1)\n",
        "print(1mydata)"
      ],
      "execution_count": null,
      "outputs": []
    },
    {
      "cell_type": "code",
      "metadata": {
        "id": "CWGUFUFVbZpE"
      },
      "source": [
        "#Casting\n",
        "#We use casting when we want to specify the data type when assigning variables\n",
        "\n",
        "x1 = str(10)\n",
        "x2 = float(10)\n",
        "x3 = int(100)\n",
        "\n",
        "#type()\n",
        "\n",
        "print(type(x1))\n",
        "print(type(x2))\n",
        "print(type(x3))"
      ],
      "execution_count": null,
      "outputs": []
    },
    {
      "cell_type": "code",
      "metadata": {
        "id": "1BxwWGqbb7Z1"
      },
      "source": [
        "#Output Variables\n",
        "x = \"Thursday\"\n",
        "\n",
        "print(\"Today is \" + x + \" our first session!\")\n"
      ],
      "execution_count": null,
      "outputs": []
    },
    {
      "cell_type": "markdown",
      "metadata": {
        "id": "ox3CPTTjdaHU"
      },
      "source": [
        "**Data Types**\n",
        "\n"
      ]
    },
    {
      "cell_type": "code",
      "metadata": {
        "id": "8764ChFkdXld"
      },
      "source": [
        "# strings\n",
        "\n",
        "#int float complex\n",
        "\n",
        "#list tuple range\n",
        "\n",
        "#dictionaries\n",
        "\n",
        "\n",
        "#Boolean\n"
      ],
      "execution_count": 3,
      "outputs": []
    },
    {
      "cell_type": "code",
      "metadata": {
        "id": "mcjRv_rOeHUH"
      },
      "source": [
        "#Strings as arrays \n",
        "x = \"we like coding\"\n",
        "print(x[0])\n",
        "\n",
        "\n"
      ],
      "execution_count": null,
      "outputs": []
    },
    {
      "cell_type": "code",
      "metadata": {
        "id": "sYeiIDhxgbDU"
      },
      "source": [
        "#looping through a string\n",
        "# Since strings are arrays we can loop through the characters\n",
        "\n",
        "for i in 'tomorrow':\n",
        "  print(i)"
      ],
      "execution_count": null,
      "outputs": []
    },
    {
      "cell_type": "code",
      "metadata": {
        "id": "7nXBsmNVgc96"
      },
      "source": [
        "#slicing strings\n",
        "\n",
        "x = 'tortoise'\n",
        "print(x[2:]) #slice to the end\n",
        "print(x[:2]) # slice from start\n",
        "print(x[2:6]) #characters in 2 & 6 are not included"
      ],
      "execution_count": null,
      "outputs": []
    },
    {
      "cell_type": "code",
      "metadata": {
        "id": "FCeBEc4HhRNP"
      },
      "source": [
        "#lower case strings - lower()\n",
        "\n",
        "# upper case strings - upper()\n",
        "\n",
        "# replace strings - replace('old', 'new')\n",
        "\n",
        "# To remove the whitespace - strip()\n",
        "\n",
        "\n"
      ],
      "execution_count": null,
      "outputs": []
    },
    {
      "cell_type": "code",
      "metadata": {
        "id": "OxCS2pWWjeAc"
      },
      "source": [
        "#Concatenate strings\n"
      ],
      "execution_count": null,
      "outputs": []
    },
    {
      "cell_type": "code",
      "metadata": {
        "id": "5QXfFMjXjqVN"
      },
      "source": [
        "#String format\n",
        "#We use format() method-  It takes passed arguments, formats them and places them in string where the placeholders {}\n",
        "day = 'Thursday'\n",
        "data = \"I will be free on {}\"\n",
        "print(data.format(day))\n"
      ],
      "execution_count": null,
      "outputs": []
    },
    {
      "cell_type": "markdown",
      "metadata": {
        "id": "q7nH0lCJlxxa"
      },
      "source": [
        "**Boolean**"
      ]
    },
    {
      "cell_type": "code",
      "metadata": {
        "id": "Z-mlZdmdlvfJ"
      },
      "source": [
        "#bool()- True, False"
      ],
      "execution_count": null,
      "outputs": []
    },
    {
      "cell_type": "markdown",
      "metadata": {
        "id": "P4TrNk3DmFnu"
      },
      "source": [
        "**Python Operators**"
      ]
    },
    {
      "cell_type": "code",
      "metadata": {
        "id": "Jx_j2sUNl6U6"
      },
      "source": [
        "print(10 + 5)\n",
        "print(10*8)\n",
        "print(3^5)"
      ],
      "execution_count": null,
      "outputs": []
    },
    {
      "cell_type": "markdown",
      "metadata": {
        "id": "IKFx4l43mXA5"
      },
      "source": [
        "**Python List**\n",
        "\n",
        "Lists are item are ordered, changeable, allow duplicate values and can take any data types"
      ]
    },
    {
      "cell_type": "code",
      "metadata": {
        "id": "P-kkH6Xbo-MB"
      },
      "source": [
        "days = ['Monday','Wednesday','Tuesday', 'Thursday', 'Friday','Saturday','Sunday']\n",
        "print(days)\n",
        "\n",
        "#Constructing list()\n",
        "\n",
        "mylist = list((\"Tue\",\"Weno\",\"Thur\"))\n",
        "print(mylist)\n",
        "\n",
        "#Accessing items in a list\n",
        "print(days[0])\n",
        "print(days[2])\n",
        "print(days[3])\n",
        "\n",
        "print(days[-2])\n",
        "print(days[2:6])\n",
        "\n",
        "\n",
        "#Changing Item Value in list\n",
        "days[2] = 'Monday12'\n",
        "print(days)\n",
        "\n",
        "days[1:3] = ['Tues', 'Weno']\n",
        "\n",
        "#Adding List items - append()\n",
        "\n",
        "days.append('Sato')\n",
        "print(days)\n",
        "\n",
        "\n",
        "#Remove List items\n",
        "myitems = ['car','bike','mountain', 'river','clay','purple']\n",
        "myitems.remove('car')\n",
        "print(myitems)"
      ],
      "execution_count": null,
      "outputs": []
    },
    {
      "cell_type": "code",
      "metadata": {
        "id": "pFtExqwPtEEu"
      },
      "source": [
        "#looping through the lists\n",
        "languages = ['Kiswahili','English','French','German', 'Spanish','Italian']\n",
        "for language in languages:\n",
        "  print(language)\n",
        "\n",
        "\n",
        "\n",
        "\n",
        " "
      ],
      "execution_count": null,
      "outputs": []
    },
    {
      "cell_type": "code",
      "metadata": {
        "id": "yBIee92OuQ_h"
      },
      "source": [
        "\n",
        "#List comprehension\n",
        "#newlist = [expression for item in iterable if condition == True]\n",
        "fruits = ['banana','oranges','cherry','blueberries','mango']\n",
        "newlist = []\n",
        "\n",
        "for x in fruits:\n",
        "  if 'e' in fruits:\n",
        "    newlist.append(x)\n",
        "print(newlist)    \n",
        "\n",
        "\n",
        "\n",
        "newlist1 = [x for x in fruits if 'e' in x]"
      ],
      "execution_count": null,
      "outputs": []
    },
    {
      "cell_type": "markdown",
      "metadata": {
        "id": "iFVFZqRHxcMO"
      },
      "source": [
        "**Python Tuple**\n",
        "\n",
        "They are ordered, unchangeable, allow duplicates\n"
      ]
    },
    {
      "cell_type": "code",
      "metadata": {
        "id": "lSAWlJHZvEFb"
      },
      "source": [
        "mytuple = ('Tue','Weno','Thur')\n",
        "mynumbers = (1,2,4,5,6)\n",
        "mybools = (True, False, False, True)\n",
        "#Unchangebale - means yuou cannot add or remove items in a tuple\n",
        "#You need to convert a tuple into a list then add or remove, later you convert it back to a tuple\n",
        "\n",
        "sports = ('football' 'rugby', 'cricket','tennis')\n",
        "print(sports)\n",
        "mylist = list(sports)\n",
        "\n",
        "mylist.append('swimming')\n",
        "print(mylist)\n",
        "tuplesports = tuple(mylist)\n",
        "\n",
        "print(tuplesports)\n",
        "\n",
        "\n"
      ],
      "execution_count": null,
      "outputs": []
    },
    {
      "cell_type": "code",
      "metadata": {
        "id": "dC2hQzLJzp6U"
      },
      "source": [
        "  #Looping through a tuple\n",
        "tuplesports = ('football','rugby','cricket','tennis','swimming')\n",
        "for sport in tuplesports:\n",
        "  print(sport)"
      ],
      "execution_count": null,
      "outputs": []
    },
    {
      "cell_type": "code",
      "metadata": {
        "id": "5ui9cFyjz_ev"
      },
      "source": [
        "#Joining tuples\n",
        "tuple1 = (1,2,3,4)\n",
        "tuple2 =('a','b','c')\n",
        "\n",
        "print(tuple1 + tuple2)"
      ],
      "execution_count": null,
      "outputs": []
    },
    {
      "cell_type": "markdown",
      "metadata": {
        "id": "o0NQQMAz0l6G"
      },
      "source": [
        "**Python Sets**\n",
        "\n",
        "A set is a collection which is both unordered and unindexed.\n",
        "\n",
        "Sets are written with curly brackets."
      ]
    },
    {
      "cell_type": "code",
      "metadata": {
        "id": "jP4s8b2c0aL4"
      },
      "source": [
        "myset = {'Daisy', 'George', 'Phelister'}\n",
        "myset1 = {1,2,3,4,4,5,6}\n",
        "myset2 = {'car',44,55,True,'strings'}\n",
        "print(myset)\n",
        "print(myset1)\n",
        "\n",
        "print(type(myset2))"
      ],
      "execution_count": null,
      "outputs": []
    },
    {
      "cell_type": "code",
      "metadata": {
        "id": "MYrvgil16ZqE"
      },
      "source": [
        "# We use set() to construct a set\n",
        "\n",
        "soccer_teams = (('chelsea','arsenal','man_u','liverpool'))\n",
        "print(soccer_teams)"
      ],
      "execution_count": null,
      "outputs": []
    },
    {
      "cell_type": "code",
      "metadata": {
        "id": "BFSbIUDg69nu"
      },
      "source": [
        "# Looping through a set\n",
        "soccer_teams = (('chelsea','arsenal','man_u','liverpool'))\n",
        "\n",
        "for team in soccer_teams:\n",
        "  print(team)\n",
        "\n",
        "\n"
      ],
      "execution_count": null,
      "outputs": []
    },
    {
      "cell_type": "code",
      "metadata": {
        "id": "Q8LWK3TT7eDm"
      },
      "source": [
        "#Check if an item is present in a set\n",
        "soccer_teams = (('chelsea','arsenal','man_u','liverpool'))\n",
        "print('chelsea' in soccer_teams)"
      ],
      "execution_count": null,
      "outputs": []
    },
    {
      "cell_type": "code",
      "metadata": {
        "id": "2UJXf8fr7fdy"
      },
      "source": [
        "# Add an item in a set\n",
        "#Check if an item is present in a set\n",
        "soccer_teams = (('chelsea','arsenal','man_u','liverpool'))\n",
        "soccer_teams.add('Barcelona')\n",
        "\n",
        "print(soocer_teams)\n",
        "\n",
        "\n",
        "# Use update() to add a list, tuple or dictionaries\n",
        "set1 = {1,2,3,4,5}\n",
        "mylist = [7,8,9,10]\n",
        "set1.update(mylist)\n",
        "print(set1)"
      ],
      "execution_count": null,
      "outputs": []
    },
    {
      "cell_type": "markdown",
      "metadata": {
        "id": "KqOjxh2M8vCW"
      },
      "source": [
        "**Python Dictionaries**\n",
        "\n",
        "Dictionaries are used to store data values in key:value pairs.\n",
        "\n",
        "A dictionary is a collection which is ordered, changeable and does not allow duplicates."
      ]
    },
    {
      "cell_type": "code",
      "metadata": {
        "id": "o-4Pl2fd8i_J"
      },
      "source": [
        "mydict = {'Monday':1, 'Tuesday':2, 'Wednesday':3, 'Thursday':4,\n",
        "          'Friday':5, 'Saturday':6, 'Friday':7}\n",
        "print(mydict)          \n",
        "\n",
        "\n",
        "mydict1 = {\n",
        "  \"brand\": \"Ford\",\n",
        "  \"electric\": False,\n",
        "  \"year\": 1964,\n",
        "  \"colors\": [\"red\", \"white\", \"blue\"]\n",
        "}\n"
      ],
      "execution_count": null,
      "outputs": []
    },
    {
      "cell_type": "code",
      "metadata": {
        "id": "Qdu2xc0w9lbj"
      },
      "source": [
        "# access values in a dictionary\n",
        " day = mydict['Monday']\n",
        " day_two = mydict.get('Tuesday')\n",
        "\n",
        "\n",
        " # Getting the keys\n",
        " keys = mydict1.keys()\n",
        "\n",
        "\n",
        " #Getting the values - values()\n",
        " values = mydict1.values()\n",
        "\n",
        "#Getting items - The items() method will return each item in a dictionary, as tuples in a list.\n",
        "\n",
        " items = mydict1.items()"
      ],
      "execution_count": null,
      "outputs": []
    },
    {
      "cell_type": "code",
      "metadata": {
        "id": "HqN6vMUZ_Ict"
      },
      "source": [
        "# Changing values\n",
        "car = {\n",
        "  \"brand\": \"Ford\",\n",
        "  \"electric\": False,\n",
        "  \"year\": 1990,\n",
        "\n",
        "}\n",
        "\n",
        "x = car.values\n",
        "print(x)\n",
        "car['year'] = 2020\n",
        "\n",
        "print(x)"
      ],
      "execution_count": null,
      "outputs": []
    },
    {
      "cell_type": "code",
      "metadata": {
        "id": "Mx6weI2vAcsN"
      },
      "source": [
        "# Adding items in a dictionary\n",
        "car = {\n",
        "  \"brand\": \"Ford\",\n",
        "  \"electric\": False,\n",
        "  \"year\": 1990,\n",
        "\n",
        "}\n",
        "car['color'] = 'black'\n",
        "\n",
        "print(car.values())"
      ],
      "execution_count": null,
      "outputs": []
    },
    {
      "cell_type": "code",
      "metadata": {
        "id": "RMp-mBE8Axfd"
      },
      "source": [
        "# Looping through a dictionary\n",
        "\n",
        "mydict = {'Monday':1, 'Tuesday':2, 'Wednesday':3, 'Thursday':4,\n",
        "          'Friday':5, 'Saturday':6, 'Friday':7}\n",
        "\n",
        "\n",
        "for day in mydict:\n",
        "  print(day) \n",
        "\n",
        "\n",
        "for day in mydict:\n",
        "  print(mydict[day]) "
      ],
      "execution_count": null,
      "outputs": []
    },
    {
      "cell_type": "code",
      "metadata": {
        "id": "zpu1sSezCAyL"
      },
      "source": [
        "# Returns keys in a dictionary\n",
        "for x in mydict.keys():\n",
        "  print(x)"
      ],
      "execution_count": null,
      "outputs": []
    },
    {
      "cell_type": "code",
      "metadata": {
        "id": "N9qH5mv7CHso"
      },
      "source": [
        "# returns values in a dictionary\n",
        "for x in mydict.values():\n",
        "  print(x)"
      ],
      "execution_count": null,
      "outputs": []
    },
    {
      "cell_type": "code",
      "metadata": {
        "id": "neYBE-u2CV-N"
      },
      "source": [
        "#loop through keys,values\n",
        "\n",
        "for x, y in mydict.items():\n",
        "  print(x,y)\n",
        "  "
      ],
      "execution_count": null,
      "outputs": []
    },
    {
      "cell_type": "code",
      "metadata": {
        "id": "UWAS3bnvCuwC"
      },
      "source": [
        "#Nested Dictionaries\n",
        "myfamily = {\n",
        "  \"firstborn\" : {\n",
        "    \"name\" : \"Merlin\",\n",
        "    \"year\" : 1997\n",
        "  },\n",
        "  \"second_born\" : {\n",
        "    \"name\" : \"Lorna\",\n",
        "    \"year\" : 2002\n",
        "  },\n",
        "  \"third_born\" : {\n",
        "    \"name\" : \"Amos\",\n",
        "    \"year\" : 2011\n",
        "  }\n",
        "}"
      ],
      "execution_count": null,
      "outputs": []
    }
  ]
}